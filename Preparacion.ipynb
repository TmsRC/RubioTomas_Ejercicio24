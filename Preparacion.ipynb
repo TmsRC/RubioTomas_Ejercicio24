{
 "cells": [
  {
   "cell_type": "code",
   "execution_count": null,
   "metadata": {},
   "outputs": [],
   "source": [
    "import numpy as np\n",
    "import matplotlib.pyplot as plt\n",
    "\n",
    "import sklearn.preprocessing\n",
    "import sklearn.neural_network\n",
    "import sklearn.model_selection\n",
    "\n",
    "import glob"
   ]
  },
  {
   "cell_type": "code",
   "execution_count": null,
   "metadata": {},
   "outputs": [],
   "source": [
    "datapoints = np.sort(glob.glob('Dataset/*datapoints.txt')) # Cada archivo contiene todos las instancias de una misma categoría\n",
    "positive = np.sort(glob.glob('Dataset/*targets.txt')) # Indica si la instancia corresponde al gesto esperado o es sólo un gesto neutro\n",
    "target = []\n",
    "datos = []\n",
    "\n",
    "for i in range(len(positive)):\n",
    "    gesto = np.loadtxt(positive[i])\n",
    "    categoria = np.loadtxt(datapoints[i],skiprows=1)[np.where(gesto==1)] #Coge sólo las instancias donde hay gesto\n",
    "    categoria = categoria[:330] # Corta la cantidad de instancias, para que todas las categorías estén igualmente representadas\n",
    "    for j in range(len(categoria)):\n",
    "        dato = categoria[j]\n",
    "        datos.append(dato[1:]) # Descarta el primer dato (no es relevante)\n",
    "        target.append(i%8)\n",
    "datos = np.array(datos,dtype=float)"
   ]
  },
  {
   "cell_type": "code",
   "execution_count": null,
   "metadata": {},
   "outputs": [],
   "source": [
    "X_train, X_test, Y_train, Y_test = sklearn.model_selection.train_test_split(datos, target, test_size=0.2)\n",
    "\n",
    "scaler = sklearn.preprocessing.StandardScaler()\n",
    "X_train = scaler.fit_transform(X_train)\n",
    "X_test = scaler.transform(X_test)"
   ]
  },
  {
   "cell_type": "code",
   "execution_count": null,
   "metadata": {},
   "outputs": [],
   "source": [
    "neuronas = np.linspace(1,20,5,dtype=int)\n",
    "loss = []\n",
    "f1_test = []\n",
    "f1_train = []\n",
    "it = 2500\n",
    "\n",
    "for i in neuronas:\n",
    "    mlp = sklearn.neural_network.MLPClassifier(activation='logistic',hidden_layer_sizes=(i),max_iter=it)\n",
    "    mlp.fit(X_train, Y_train)\n",
    "    \n",
    "    loss.append(mlp.loss_)\n",
    "    f1_test.append(sklearn.metrics.f1_score(Y_test, mlp.predict(X_test), average='macro'))\n",
    "    f1_train.append(sklearn.metrics.f1_score(Y_train, mlp.predict(X_train), average='macro'))\n",
    "    print(i)"
   ]
  },
  {
   "cell_type": "code",
   "execution_count": null,
   "metadata": {},
   "outputs": [],
   "source": [
    "fig,(ax1,ax2) = plt.subplots(1,2,figsize=(15,5))\n",
    "ax1.scatter(neuronas,loss,c='b',label='Loss')\n",
    "ax2.scatter(neuronas,f1_test,c='r',label='Test')\n",
    "ax2.scatter(neuronas,f1_train,c='b',label='Train')\n",
    "ax1.set_title('Loss')\n",
    "ax2.set_title('F1 Score')\n",
    "ax1.set_xlabel('Número de neuronas')\n",
    "ax2.set_xlabel('Número de neuronas')\n",
    "ax1.set_xticks(neuronas[1::2])\n",
    "ax2.set_xticks(neuronas[1::2])\n",
    "ax2.legend()\n",
    "#fig.savefig('loss_f1.png')"
   ]
  },
  {
   "cell_type": "code",
   "execution_count": null,
   "metadata": {},
   "outputs": [],
   "source": [
    "best = 5\n",
    "mlp = sklearn.neural_network.MLPClassifier(activation='logistic',hidden_layer_sizes=(best),max_iter=it)\n",
    "mlp.fit(X_train, Y_train)\n",
    "\n",
    "\n",
    "fig,axes = plt.subplots(1,best,figsize=(25,5))\n",
    "for i in range(best):\n",
    "    axes[i].imshow(mlp.coefs_[0][:,i].reshape(25,12)\n",
    "    axes[i].set_title('Neurona {}'.format(i+1))\n",
    "\n",
    "#plt.savefig('neuronas.png')"
   ]
  }
 ],
 "metadata": {
  "kernelspec": {
   "display_name": "Python 3",
   "language": "python",
   "name": "python3"
  },
  "language_info": {
   "codemirror_mode": {
    "name": "ipython",
    "version": 3
   },
   "file_extension": ".py",
   "mimetype": "text/x-python",
   "name": "python",
   "nbconvert_exporter": "python",
   "pygments_lexer": "ipython3",
   "version": "3.7.6"
  }
 },
 "nbformat": 4,
 "nbformat_minor": 4
}
